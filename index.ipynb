{
 "cells": [
  {
   "cell_type": "markdown",
   "metadata": {},
   "source": [
    "<link rel=\"shortcut icon\" href=\"assets/favicon.ico\">"
   ]
  },
  {
   "cell_type": "markdown",
   "metadata": {},
   "source": [
    "--------------------------------\n",
    "--------------------------------\n",
    "<div style=\"text-align:center\"><span style=\"color:black; font-family:Georgia; font-size:3em;\">Brais Seara: Data Science Blog</span></div>\n",
    "\n",
    "--------------------------------\n",
    "\n",
    "#### https://github.com/braisseara/blog"
   ]
  },
  {
   "cell_type": "markdown",
   "metadata": {},
   "source": [
    "![](assets/portada.jpg)"
   ]
  },
  {
   "cell_type": "markdown",
   "metadata": {
    "slideshow": {
     "slide_type": "-"
    }
   },
   "source": [
    "<a name=\"relaciones_interprovinciales_en_espanha\"></a> "
   ]
  },
  {
   "cell_type": "markdown",
   "metadata": {
    "slideshow": {
     "slide_type": "slide"
    }
   },
   "source": [
    "-----------------------------------\n",
    "# <a href=\"entradas_html/relaciones_interprovinciales_en_espanha.html\" style=\"color:black;\">Relaciones Interprovinciales en España\n",
    "    \n",
    "##  <a href=\"entradas_html/relaciones_interprovinciales_en_espanha.html#setup\" style=\"color:blue;text-decoration: none\">[ I ] Setup\n",
    "    \n",
    "##  <a href=\"entradas_html/relaciones_interprovinciales_en_espanha.html#conteo\" style=\"color:blue;text-decoration: none\">[ II ] Conteo Nacidos por Provincia de Origen de los Padres   \n",
    "    \n",
    "##  <a href=\"entradas_html/relaciones_interprovinciales_en_espanha.html#sexos\" style=\"color:blue;text-decoration: none\">[ III ] Zaragozanas, Vizcaínos y Viceversa\n",
    "    \n",
    "##  <a href=\"entradas_html/relaciones_interprovinciales_en_espanha.html#fidelidad\" style=\"color:blue;text-decoration: none\">[ IV ] Fidelidad Provincial\n",
    "    \n",
    "##  <a href=\"entradas_html/relaciones_interprovinciales_en_espanha.html#reparto\" style=\"color:blue;text-decoration: none\">[ V ] La Exogamia de la España Interior\n",
    "    \n",
    "##  <a href=\"entradas_html/relaciones_interprovinciales_en_espanha.html#donde\" style=\"color:blue;text-decoration: none\">[ VI ] Provincianos en Madrid y Barcelona\n",
    "\n",
    "##  <a href=\"entradas_html/relaciones_interprovinciales_en_espanha.html#mapas\" style=\"color:blue;text-decoration: none\">[ VII] Bonus Map\n"
   ]
  },
  {
   "cell_type": "markdown",
   "metadata": {},
   "source": [
    "-----------------------------------\n",
    "# <a href=\"entradas_html/relaciones_internacionales_en_espanha.html\" style=\"color:black;\">Relaciones Internacionales en España\n",
    "    \n",
    "##  <a href=\"entradas_html/relaciones_internacionales_en_espanha.html#setup\" style=\"color:blue;text-decoration: none\">[ I ] Setup\n",
    "    \n",
    "##  <a href=\"entradas_html/relaciones_internacionales_en_espanha.html#conteo\" style=\"color:blue;text-decoration: none\">[ II ] Conteo Nacidos por País de Origen de los Padres   \n",
    "    \n",
    "##  <a href=\"entradas_html/relaciones_internacionales_en_espanha.html#sexos\" style=\"color:blue;text-decoration: none\">[ III ] Nuevas chicas Rusas buscan esposo en tu Ciudad\n",
    "    \n",
    "##  <a href=\"entradas_html/relaciones_internacionales_en_espanha.html#fidelidad\" style=\"color:blue;text-decoration: none\">[ IV ] Fidelidad Nacional\n",
    "    \n",
    "##  <a href=\"entradas_html/relaciones_internacionales_en_espanha.html#reparto\" style=\"color:blue;text-decoration: none\">[ V ] El Turismo Sexual en España, por Sexos"
   ]
  },
  {
   "cell_type": "code",
   "execution_count": null,
   "metadata": {},
   "outputs": [],
   "source": []
  }
 ],
 "metadata": {
  "celltoolbar": "Slideshow",
  "kernelspec": {
   "display_name": "Python 3",
   "language": "python",
   "name": "python3"
  },
  "language_info": {
   "codemirror_mode": {
    "name": "ipython",
    "version": 3
   },
   "file_extension": ".py",
   "mimetype": "text/x-python",
   "name": "python",
   "nbconvert_exporter": "python",
   "pygments_lexer": "ipython3",
   "version": "3.7.1"
  }
 },
 "nbformat": 4,
 "nbformat_minor": 1
}
