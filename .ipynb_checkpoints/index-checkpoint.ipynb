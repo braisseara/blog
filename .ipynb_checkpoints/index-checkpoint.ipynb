{
 "cells": [
  {
   "cell_type": "markdown",
   "metadata": {},
   "source": [
    "<title>Brais Seara Data Science Blog. índice</title>\n",
    "<div style=\"text-align:center\"><span style=\"color:black; font-family:Georgia; font-size:3em;\">Brais Seara: Data Science Blog</span></div>"
   ]
  },
  {
   "cell_type": "markdown",
   "metadata": {},
   "source": [
    "![](assets/portada.jpg)"
   ]
  },
  {
   "cell_type": "markdown",
   "metadata": {
    "slideshow": {
     "slide_type": "slide"
    }
   },
   "source": [
    "-----------------------------------\n",
    "# <a href=\"entradas_html/relaciones_interprovinciales_en_espanha.html\" style=\"color:black;\">Relaciones Interprovinciales en España\n",
    "##  <a href=\"entradas_html/relaciones_interprovinciales_en_espanha.html\" style=\"color:blue;text-decoration: none\">[ I ] Setup"
   ]
  }
 ],
 "metadata": {
  "celltoolbar": "Slideshow",
  "kernelspec": {
   "display_name": "Python 3",
   "language": "python",
   "name": "python3"
  },
  "language_info": {
   "codemirror_mode": {
    "name": "ipython",
    "version": 3
   },
   "file_extension": ".py",
   "mimetype": "text/x-python",
   "name": "python",
   "nbconvert_exporter": "python",
   "pygments_lexer": "ipython3",
   "version": "3.7.1"
  }
 },
 "nbformat": 4,
 "nbformat_minor": 1
}
